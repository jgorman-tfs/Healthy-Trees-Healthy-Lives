{
 "cells": [
  {
   "cell_type": "markdown",
   "metadata": {},
   "source": [
    "# Healthy Trees, Healthy Lives Analysis\n",
    "## Notes\n"
   ]
  },
  {
   "cell_type": "markdown",
   "metadata": {},
   "source": [
    "## Variables and Boundary Creation - Do this if you need to re-run a section of the analysis or if you restart the kernal"
   ]
  },
  {
   "cell_type": "markdown",
   "metadata": {},
   "source": [
    "### Initialize Varibles"
   ]
  },
  {
   "cell_type": "code",
   "execution_count": null,
   "metadata": {},
   "outputs": [],
   "source": [
    "import os\n",
    "arcpy.env.overwriteOutput = True\n",
    " \n",
    "# Set workspace and input variables. CHANGE THESE DEPENDING ON CITY\n",
    "City_Name = \"MissouriCity\"\n",
    "City_Name_With_Spaces = \"Missouri City\"\n",
    "workspace = r\"D:\\ArcGIS_Projects\\HTHL_Gorman\\HTHL\"\n",
    "#Add these depending on the city\n",
    "parcels = \"Miss_parcels\"\n",
    "utc = \"MissouriCity_utc\"\n",
    "\n",
    "#Add these from the Base_Polygons GDB. These DO NOT change\n",
    "city_points = \"Cities_Points\"\n",
    "city_boundaries = \"Cities\"\n",
    "point_data = \"School_MedicalFacilities_Texas\" \n",
    "building_polygons = \"Texas_Building_Polygons\" \n",
    "streets = \"TxDOT_Roadway_Inventory\"\n",
    "parks = \"PAD_US\"\n",
    "\n",
    "# Create a new geodatabase based on the city name\n",
    "gdb_name = f\"{City_Name}.gdb\"\n",
    "gdb_path = os.path.join(workspace, gdb_name)\n",
    "arcpy.env.workspace = gdb_path\n",
    "spatial_ref = arcpy.SpatialReference(3665)\n",
    "print(f\"{City_Name} Initialized\")"
   ]
  },
  {
   "cell_type": "markdown",
   "metadata": {},
   "source": [
    "### Create GDB if needed and make a city boundary layer"
   ]
  },
  {
   "cell_type": "code",
   "execution_count": null,
   "metadata": {},
   "outputs": [],
   "source": [
    "if not arcpy.Exists(gdb_path):\n",
    "    arcpy.CreateFileGDB_management(workspace, gdb_name)\n",
    "# Extract the city boundary\n",
    "city_boundary_layer = \"CityBoundaryLayer\"\n",
    "city_point_layer = \"CityPointLayer\"\n",
    "arcpy.MakeFeatureLayer_management(city_boundaries, city_boundary_layer, f'\"CITY_NM\" = \\'{City_Name}\\'')\n",
    "arcpy.MakeFeatureLayer_management(city_points, city_point_layer, f'\"CITY_NM\" = \\'{City_Name}\\'')\n",
    "city_boundary_output = os.path.join(gdb_path, f\"{City_Name}_Boundary\")\n",
    "city_point_output = os.path.join(gdb_path, f\"{City_Name}_Point\")\n",
    "arcpy.CopyFeatures_management(city_boundary_layer, city_boundary_output)\n",
    "arcpy.CopyFeatures_management(city_point_layer, city_point_output)\n",
    "print(f\"{City_Name} GDB Created\")"
   ]
  },
  {
   "cell_type": "markdown",
   "metadata": {},
   "source": [
    "## Part 1 - Schools and Medical Facilities"
   ]
  },
  {
   "cell_type": "markdown",
   "metadata": {},
   "source": [
    "### a) Clip points and spatially join to building polygons"
   ]
  },
  {
   "cell_type": "code",
   "execution_count": null,
   "metadata": {},
   "outputs": [],
   "source": [
    "# Clip the point data to the city boundary\n",
    "clipped_points = os.path.join(gdb_path, f\"{City_Name}_Clipped_Points\")\n",
    "arcpy.Clip_analysis(point_data, city_boundary_output, clipped_points)\n",
    "print(\"Points Created for City\")"
   ]
  },
  {
   "cell_type": "code",
   "execution_count": null,
   "metadata": {},
   "outputs": [],
   "source": [
    "# clipped_points = os.path.join(gdb_path, f\"{City_Name}_Clipped_Points\")\n",
    "# city_boundary_output = os.path.join(gdb_path, f\"{City_Name}_Boundary\")\n",
    "# city_point_output = os.path.join(gdb_path, f\"{City_Name}_Point\")"
   ]
  },
  {
   "cell_type": "code",
   "execution_count": null,
   "metadata": {},
   "outputs": [],
   "source": [
    "# Count the number of clipped points\n",
    "point_count = arcpy.GetCount_management(clipped_points)\n",
    "print(f\"Number of clipped points: {point_count[0]}\")\n",
    "\n",
    "# Spatial join between the clipped points and building polygons\n",
    "spatial_join_output = os.path.join(gdb_path, f\"{City_Name}_Spatial_Join\")\n",
    "arcpy.SpatialJoin_analysis(building_polygons, clipped_points, spatial_join_output, join_type=\"KEEP_COMMON\")\n",
    "\n",
    "# Count the number of polygons after the spatial join\n",
    "arcpy.DeleteIdentical_management(f\"{City_Name}_Spatial_Join\", [\"Name\"])\n",
    "polygon_count = arcpy.GetCount_management(spatial_join_output)\n",
    "# Use the appropriate field(s) for duplicates\n",
    "print(f\"Number of polygons after spatial join: {polygon_count[0]}\")\n",
    "\n",
    "# Validate counts\n",
    "if point_count[0] == polygon_count[0]:\n",
    "    print(\"The point count matches the polygon count.\")\n",
    "else:\n",
    "    print(\"The point count does NOT match the polygon count. Fix and run again until the polygon count matches\")"
   ]
  },
  {
   "cell_type": "markdown",
   "metadata": {},
   "source": [
    "### c) Bulk School/Medical Analysis. Please review the README file for more information on logic. "
   ]
  },
  {
   "cell_type": "code",
   "execution_count": null,
   "metadata": {},
   "outputs": [],
   "source": [
    "building_projected = arcpy.management.Project(spatial_join_output, f\"{City_Name}_Buildings_Projected\", spatial_ref)\n",
    "arcpy.management.AddFields(\n",
    "    building_projected,\n",
    "    [[\"HTHL_Type\", \"TEXT\", \"HTHL_Type\"]])\n",
    "arcpy.management.CalculateField(building_projected, \"HTHL_Type\", \"'School/Medical'\", expression_type = \"PYTHON3\")\n",
    "\n",
    "building_buffer = arcpy.analysis.Buffer(building_projected, f\"{City_Name}_Building_Buffer\", \"200 Meters\", dissolve_option = \"NONE\")\n",
    "building_erase = arcpy.analysis.Erase(building_buffer, building_projected, f\"{City_Name}_Building_Erase\")\n",
    "\n",
    "arcpy.management.AddFields(\n",
    "    building_erase,\n",
    "    [\n",
    "        [\"buffer_acres\", 'FLOAT', 'buffer_acres']])\n",
    "arcpy.management.CalculateGeometryAttributes(building_erase, geometry_property = [[\"buffer_acres\", \"AREA_GEODESIC\"]], area_unit = \"ACRES_US\", coordinate_system = spatial_ref)\n",
    "\n",
    "building_utc_unprojected = arcpy.analysis.Clip(building_buffer, utc , f\"{City_Name}_UTC_Unprojected\")\n",
    "building_utc = arcpy.management.Project(building_utc_unprojected, f\"{City_Name}_UTC_Projected\", spatial_ref)\n",
    "\n",
    "arcpy.management.AddFields(\n",
    "    building_utc,\n",
    "    [\n",
    "        [\"utc_acres\", 'FLOAT', 'utc_acres'],\n",
    "        [\"HTHL_Type\", \"TEXT\", \"HTHL_Type\"],\n",
    "        [\"TreeCanopyPercentage\", \"FLOAT\", \"TreeCanopyPercentage\"]\n",
    "    ])\n",
    "arcpy.management.CalculateGeometryAttributes(building_utc, geometry_property = [[\"utc_acres\", \"AREA_GEODESIC\"]], area_unit = \"ACRES_US\", coordinate_system = spatial_ref)\n",
    "arcpy.management.JoinField(building_utc, \"Name\", building_erase, \"Name\", [\"buffer_acres\"])\n",
    "\n",
    "arcpy.management.CalculateField(building_utc, \"HTHL_Type\", \"'Tree Canopy'\")\n",
    "arcpy.management.CalculateField(building_utc, \"TreeCanopyPercentage\", '(!utc_acres! / !buffer_acres!) * 100', expression_type = \"PYTHON3\")\n",
    "\n",
    "arcpy.management.JoinField(building_projected, \"Name\", building_utc, \"Name\", [\"TreeCanopyPercentage\"])\n",
    "final_buildings = arcpy.management.Merge([building_utc, building_projected], f\"{City_Name}_School_Medical_Final\")\n",
    "print(f\"{City_Name} School/Medical Created\")"
   ]
  },
  {
   "cell_type": "markdown",
   "metadata": {},
   "source": [
    "## d) Table Reorganiztion"
   ]
  },
  {
   "cell_type": "code",
   "execution_count": null,
   "metadata": {},
   "outputs": [],
   "source": [
    "fields_to_keep = ['Name', 'FullAddress', 'Category', 'TreeCanopyPercentage', 'Subcategory', 'HTHL_Type', 'Shape_Area', 'Shape_Length', \"OBJECTID\", 'Shape']\n",
    "\n",
    "# Get all fields in the feature class\n",
    "all_fields = [field.name for field in arcpy.ListFields(final_buildings)]\n",
    "\n",
    "# Identify the fields to delete (those not in the 'fields_to_keep' list)\n",
    "fields_to_delete = [field for field in all_fields if field not in fields_to_keep]\n",
    "\n",
    "# Delete the fields that are not in the 'fields_to_keep' list\n",
    "if fields_to_delete:\n",
    "    arcpy.management.DeleteField(final_buildings, fields_to_delete)\n",
    "    print(f\"Deleted fields: {fields_to_delete}\")\n",
    "else:\n",
    "    print(\"No fields to delete.\")\n",
    "arcpy.management.AddField(final_buildings, 'City', 'TEXT')\n",
    "arcpy.management.CalculateField(final_buildings, 'City', f'\"{City_Name_With_Spaces}\"')\n",
    "print(f\"{City_Name} School/Medical Completed\")"
   ]
  },
  {
   "cell_type": "markdown",
   "metadata": {},
   "source": [
    "## Part 2 - Rights of Way (ROW)"
   ]
  },
  {
   "cell_type": "markdown",
   "metadata": {},
   "source": [
    "### a) This block performs the bulk of the ROW analysis. Please review the README file for more information on the logic"
   ]
  },
  {
   "cell_type": "code",
   "execution_count": null,
   "metadata": {},
   "outputs": [],
   "source": [
    "streets_unprojected = arcpy.analysis.Clip(streets, city_boundary_output, f\"{City_Name}_Streets_Clip\")\n",
    "streets_projected = arcpy.management.Project(streets_unprojected, f\"{City_Name}_Streets_Projected\", spatial_ref)\n",
    "streets_dissolved = arcpy.management.Dissolve(streets_projected, f\"{City_Name}_Streets_Dissolved\" , dissolve_field = \"Street\")\n",
    "streets_buffered = arcpy.analysis.Buffer(streets_dissolved, f\"{City_Name}_Streets_Buffer\", \"55 Feet\", dissolve_option = \"NONE\")\n",
    "streets_intersected = arcpy.analysis.Intersect([[utc, 2], [streets_buffered, 1]], f\"{City_Name}_Streets_Intersect\")\n",
    "\n",
    "streets_intersect_dissolve = arcpy.management.Dissolve(streets_intersected, f\"{City_Name}_Streets_Intersect_Dissolved\" , dissolve_field = \"Street\")\n",
    "\n",
    "arcpy.management.AddFields(\n",
    "    streets_intersect_dissolve,  \n",
    "    [[\"utc_acres\", \"FLOAT\", \"utc_acres\"],\n",
    "    [\"HTHL_Type\", \"TEXT\", \"HTHL_Type\"]])\n",
    "\n",
    "arcpy.management.AddFields(\n",
    "    streets_buffered,  \n",
    "    [[\"HTHL_Type\", \"TEXT\", \"HTHL_Type\"],\n",
    "    [\"TreeCanopyPercentage\", \"FLOAT\", \"TreeCanopyPercentage\"],\n",
    "     [\"buffer_acres\", \"FLOAT\", \"buffer_acres\"]])\n",
    "\n",
    "arcpy.management.CalculateField(streets_buffered, \"HTHL_Type\", \"'Street'\", \"PYTHON3\")\n",
    "arcpy.management.CalculateField(streets_intersect_dissolve, \"HTHL_Type\", \"'Tree Canopy'\", \"PYTHON3\")\n",
    "\n",
    "arcpy.management.CalculateGeometryAttributes(streets_intersect_dissolve, geometry_property = [[\"utc_acres\", \"AREA_GEODESIC\"]], area_unit = \"ACRES_US\", coordinate_system = spatial_ref)\n",
    "arcpy.management.CalculateGeometryAttributes(streets_buffered, geometry_property = [[\"buffer_acres\", \"AREA_GEODESIC\"]], area_unit = \"ACRES_US\", coordinate_system = spatial_ref)\n",
    "arcpy.management.JoinField(streets_buffered, \"Street\", streets_intersect_dissolve, \"Street\", \"utc_acres\")\n",
    "arcpy.management.SelectLayerByAttribute(f\"{City_Name}_Streets_Buffer\", \"NEW_SELECTION\", \"utc_acres IS NULL\")\n",
    "\n",
    "arcpy.management.CalculateField(f\"{City_Name}_Streets_Buffer\", \"utc_acres\", 0 , \"PYTHON3\")\n",
    "arcpy.management.SelectLayerByAttribute(f\"{City_Name}_Streets_Buffer\", \"CLEAR_SELECTION\")\n",
    "arcpy.management.CalculateField(\n",
    "    f\"{City_Name}_Streets_Buffer\",\n",
    "    \"TreeCanopyPercentage\",\n",
    "    '0 if !utc_acres! == 0 or !utc_acres! == None else (!utc_acres! / !buffer_acres!) * 100',\n",
    "    \"PYTHON3\"\n",
    ")\n",
    "\n",
    "final_ROW = arcpy.management.Merge([streets_buffered, streets_intersect_dissolve], f\"{City_Name}_ROW_Final\")\n",
    "arcpy.management.AddFields(\n",
    "    final_ROW,  \n",
    "    [[\"City\", \"TEXT\", \"City\"]])\n",
    "arcpy.management.CalculateField(f\"{City_Name}_ROW_Final\", \"City\", f'\"{City_Name_With_Spaces}\"', \"PYTHON3\")\n",
    "print(f\"{City_Name} ROW Created\")"
   ]
  },
  {
   "cell_type": "markdown",
   "metadata": {},
   "source": [
    "### b) Table Reorganization"
   ]
  },
  {
   "cell_type": "code",
   "execution_count": null,
   "metadata": {},
   "outputs": [],
   "source": [
    "fields_to_keep = ['STREET', 'TreeCanopyPercentage', 'City', 'HTHL_Type', 'Shape_Area', 'Shape_Length', \"OBJECTID\", 'Shape']\n",
    "\n",
    "# Get all fields in the feature class\n",
    "all_fields = [field.name for field in arcpy.ListFields(final_ROW)]\n",
    "\n",
    "# Identify the fields to delete (those not in the 'fields_to_keep' list)\n",
    "fields_to_delete = [field for field in all_fields if field not in fields_to_keep]\n",
    "\n",
    "# Delete the fields that are not in the 'fields_to_keep' list\n",
    "if fields_to_delete:\n",
    "    arcpy.management.DeleteField(final_ROW, fields_to_delete)\n",
    "    print(f\"Deleted fields: {fields_to_delete}\")\n",
    "else:\n",
    "    print(\"No fields to delete.\")\n",
    "    \n",
    "print(f\"{City_Name} ROW Completed\")"
   ]
  },
  {
   "cell_type": "markdown",
   "metadata": {},
   "source": [
    "## Part 3 - Residential Areas"
   ]
  },
  {
   "cell_type": "code",
   "execution_count": null,
   "metadata": {},
   "outputs": [],
   "source": [
    "parcel_clip = arcpy.analysis.Clip(parcels, city_boundary_output, f\"{City_Name}_Parcels\")\n",
    "parcels_projected = arcpy.management.Project(parcel_clip, f\"{City_Name}_Parcels_Projected\", spatial_ref)\n",
    "parks_projected = arcpy.management.Project(parks, f\"{City_Name}_Parks_Projected\", spatial_ref)\n",
    "parks_buffer = arcpy.analysis.Buffer(parks_projected, f\"{City_Name}_Parks_Buffer\", \"500 Meters\", dissolve_option = \"NONE\")\n",
    "parcels_within_500m = arcpy.analysis.Clip(parcels_projected, parks_buffer, f\"{City_Name}_Parcels_Within_500m_FromParks\")\n",
    "parcels_over_500m = arcpy.analysis.Erase(parcels_projected, parcels_within_500m,  f\"{City_Name}_Parcels_Over_500m_FromParks\")\n",
    "print(f\"{City_Name} Parcels Within/Over 500m of Parks Created\")"
   ]
  },
  {
   "cell_type": "code",
   "execution_count": null,
   "metadata": {
    "scrolled": true
   },
   "outputs": [],
   "source": [
    "# Initial fields to keep without including OBJECTID fields initially\n",
    "fields_to_keep = ['OWNER_NAME', 'LEGAL_DESC', 'Category', 'SITUS_ADDR', 'Shape_Area', 'Shape_Length', 'Shape']\n",
    "\n",
    "# Get all fields in the feature class\n",
    "all_fields = [field.name for field in arcpy.ListFields(parcels_over_500m)]\n",
    "\n",
    "# Try to delete both OBJECTID fields to see which one is non-deletable\n",
    "test_objectid_fields = ['OBJECTID', 'OBJECTID_1', 'OBJECTID_12']\n",
    "undeletable_field = None\n",
    "\n",
    "for field in test_objectid_fields:\n",
    "    try:\n",
    "        arcpy.management.DeleteField(parcels_over_500m, field)\n",
    "    except arcpy.ExecuteError:\n",
    "        # This field is non-deletable, so we keep it\n",
    "        undeletable_field = field\n",
    "        break\n",
    "\n",
    "# Add the non-deletable OBJECTID field to fields_to_keep\n",
    "if undeletable_field:\n",
    "    fields_to_keep.append(undeletable_field)\n",
    "    print(f\"Non-deletable field identified: {undeletable_field}\")\n",
    "\n",
    "# Identify fields to delete (those not in fields_to_keep list)\n",
    "fields_to_delete = [field for field in all_fields if field not in fields_to_keep]\n",
    "\n",
    "# Delete the fields that are not in the fields_to_keep list\n",
    "if fields_to_delete:\n",
    "    arcpy.management.DeleteField(parcels_over_500m, fields_to_delete)\n",
    "    print(f\"Deleted fields: {fields_to_delete}\")\n",
    "else:\n",
    "    print(\"No fields to delete.\")\n",
    "\n",
    "# Rename OWNER_NAME to Name and SITUS_ADDR to Address\n",
    "arcpy.management.AlterField(parcels_over_500m, 'OWNER_NAME', 'Owner')\n",
    "arcpy.management.AlterField(parcels_over_500m, 'SITUS_ADDR', 'Address')\n",
    "print(\"Fields renamed: OWNER_NAME to Name, SITUS_ADDR to Address\")\n",
    "\n",
    "# Add and calculate the 'City' field\n",
    "arcpy.management.AddField(parcels_over_500m, 'City', 'TEXT')\n",
    "city_value = f'\"{City_Name_With_Spaces}\"'  # Ensure City_Name_With_Spaces is a properly formatted string\n",
    "arcpy.management.CalculateField(parcels_over_500m, 'City', city_value, \"PYTHON3\")\n",
    "print(f\"{City_Name} Parcels Over 500m of Parks Complete\")"
   ]
  },
  {
   "cell_type": "code",
   "execution_count": null,
   "metadata": {},
   "outputs": [],
   "source": [
    "# Initial fields to keep without including OBJECTID fields initially\n",
    "fields_to_keep = ['OWNER_NAME', 'LEGAL_DESC', 'Category', 'SITUS_ADDR', 'Shape_Area', 'Shape_Length', 'Shape']\n",
    "\n",
    "# Get all fields in the feature class\n",
    "all_fields = [field.name for field in arcpy.ListFields(parcels_within_500m)]\n",
    "\n",
    "# Try to delete both OBJECTID fields to see which one is non-deletable\n",
    "test_objectid_fields = ['OBJECTID', 'OBJECTID_1', 'OBJECTID_12']\n",
    "undeletable_field = None\n",
    "\n",
    "for field in test_objectid_fields:\n",
    "    try:\n",
    "        arcpy.management.DeleteField(parcels_within_500m, field)\n",
    "    except arcpy.ExecuteError:\n",
    "        # This field is non-deletable, so we keep it\n",
    "        undeletable_field = field\n",
    "        break\n",
    "\n",
    "# Add the non-deletable OBJECTID field to fields_to_keep\n",
    "if undeletable_field:\n",
    "    fields_to_keep.append(undeletable_field)\n",
    "    print(f\"Non-deletable field identified: {undeletable_field}\")\n",
    "\n",
    "# Identify fields to delete (those not in fields_to_keep list)\n",
    "fields_to_delete = [field for field in all_fields if field not in fields_to_keep]\n",
    "\n",
    "# Delete the fields that are not in the fields_to_keep list\n",
    "if fields_to_delete:\n",
    "    arcpy.management.DeleteField(parcels_within_500m, fields_to_delete)\n",
    "    print(f\"Deleted fields: {fields_to_delete}\")\n",
    "else:\n",
    "    print(\"No fields to delete.\")\n",
    "    \n",
    "# Rename OWNER_NAME to Name and SITUS_ADDR to Address\n",
    "arcpy.management.AlterField(parcels_within_500m, 'OWNER_NAME', 'Owner')\n",
    "arcpy.management.AlterField(parcels_within_500m, 'SITUS_ADDR', 'Address')\n",
    "print(\"Fields renamed: OWNER_NAME to Name, SITUS_ADDR to Address\")\n",
    "\n",
    "# Add and calculate the 'City' field\n",
    "arcpy.management.AddField(parcels_within_500m, 'City', 'TEXT')\n",
    "arcpy.management.CalculateField(parcels_within_500m, 'City', f'\"{City_Name_With_Spaces}\"')\n",
    "print(f\"{City_Name} Parcels Within 500m of Parks Complete\")"
   ]
  },
  {
   "cell_type": "markdown",
   "metadata": {},
   "source": [
    "## Dissolve Parcels"
   ]
  },
  {
   "cell_type": "code",
   "execution_count": null,
   "metadata": {},
   "outputs": [],
   "source": [
    "# This cell dissolves the parcels into single layers, one for parcels outside the 500m radius, and within the 500m radius. \n",
    "# This is so users can still see the overview of parcels for the city without having to load every parcel for the city\n",
    "\n",
    "arcpy.management.Dissolve(parcels_within_500m, f\"{City_Name}_Parcels_Within_500m_Dissolve\", \"City\")\n",
    "arcpy.management.Dissolve(parcels_over_500m, f\"{City_Name}_Parcels_Over_500m_Dissolve\", \"City\")"
   ]
  },
  {
   "cell_type": "code",
   "execution_count": null,
   "metadata": {},
   "outputs": [],
   "source": [
    "def calculate_city_name(input_layer, field_name=\"CITY_NM\"):\n",
    "    \"\"\"\n",
    "    Populates the CITY_NM field in the given layer.\n",
    "    \"\"\"\n",
    "    try:\n",
    "        # Check if the field exists\n",
    "        fields = [f.name for f in arcpy.ListFields(input_layer)]\n",
    "        if field_name not in fields:\n",
    "            raise ValueError(f\"Field {field_name} does not exist in {input_layer}\")\n",
    "        \n",
    "        # Start editing session if needed (for file geodatabases or enterprise GDBs)\n",
    "        with arcpy.da.UpdateCursor(input_layer, [field_name]) as cursor:\n",
    "            for row in cursor:\n",
    "                # Example logic: Replace this with actual logic to determine CITY_NM\n",
    "                row[0] = City_Name_With_Spaces   # Replace with actual city name determination logic\n",
    "                cursor.updateRow(row)\n",
    "        \n",
    "        print(f\"Successfully updated {field_name} in {input_layer}\")\n",
    "    except Exception as e:\n",
    "        print(f\"Error: {e}\")\n",
    "\n",
    "# Example usage\n",
    "calculate_city_name(city_boundary_output)\n",
    "calculate_city_name(city_point_output)\n"
   ]
  },
  {
   "cell_type": "markdown",
   "metadata": {},
   "source": [
    "## Part 4 - Append Existing AGOL HTHL Layer"
   ]
  },
  {
   "cell_type": "code",
   "execution_count": null,
   "metadata": {},
   "outputs": [],
   "source": [
    "building_appendlayer = \"https://services5.arcgis.com/ELI1iJkCzTIagHkp/arcgis/rest/services/School_Medical_ComboTest/FeatureServer/0\"\n",
    "row_appendlayer = \"https://services5.arcgis.com/ELI1iJkCzTIagHkp/arcgis/rest/services/Rgihts_of_Way/FeatureServer/0\"\n",
    "residential_within500_appendlayer = \"https://services5.arcgis.com/ELI1iJkCzTIagHkp/arcgis/rest/services/Parcels_Within_500m_From_ParksandGreenspaces/FeatureServer/0\"\n",
    "residential_over500_appendlayer = \"https://services5.arcgis.com/ELI1iJkCzTIagHkp/arcgis/rest/services/Parcels_500m_From_ParksandGreenspaces/FeatureServer/0\"\n",
    "residential_within500_dissolve_appendlayer = \"https://services5.arcgis.com/ELI1iJkCzTIagHkp/arcgis/rest/services/Parcels_Within500m_FromParksandGreenspaces_Dissolved/FeatureServer/0\"\n",
    "residential_over500_dissolve_appendlayer = \"https://services5.arcgis.com/ELI1iJkCzTIagHkp/arcgis/rest/services/Parcels_Over500m_FromParksandGreenspaces_Dissolved/FeatureServer/0\"\n",
    "city_points_append_layer = \"https://services5.arcgis.com/ELI1iJkCzTIagHkp/arcgis/rest/services/HTHL_AvailableCityPoints/FeatureServer/0\"\n",
    "city_boundary_append_layer =\"https://services5.arcgis.com/ELI1iJkCzTIagHkp/arcgis/rest/services/HTHL_CityBoundaries/FeatureServer/0\"\n",
    "\n",
    "arcpy.management.Append([final_buildings], building_appendlayer, schema_type = \"NO_TEST\", update_geometry = \"UPDATE_GEOMETRY\")\n",
    "arcpy.management.Append([final_ROW], row_appendlayer, schema_type = \"NO_TEST\", update_geometry = \"UPDATE_GEOMETRY\")\n",
    "arcpy.management.Append([parcels_within_500m], residential_within500_appendlayer, schema_type = \"NO_TEST\", update_geometry = \"UPDATE_GEOMETRY\")\n",
    "arcpy.management.Append([parcels_over_500m], residential_over500_appendlayer, schema_type = \"NO_TEST\", update_geometry = \"UPDATE_GEOMETRY\")\n",
    "arcpy.management.Append([f\"{City_Name}_Parcels_Within_500m_Dissolve\"], residential_within500_dissolve_appendlayer, schema_type = \"NO_TEST\", update_geometry = \"UPDATE_GEOMETRY\")\n",
    "arcpy.management.Append([f\"{City_Name}_Parcels_Over_500m_Dissolve\"], residential_over500_dissolve_appendlayer, schema_type = \"NO_TEST\", update_geometry = \"UPDATE_GEOMETRY\")\n",
    "arcpy.management.Append(city_point_output, city_points_append_layer, schema_type = \"NO_TEST\", update_geometry = \"UPDATE_GEOMETRY\")\n",
    "arcpy.management.Append(city_boundary_output, city_boundary_append_layer, schema_type = \"NO_TEST\", update_geometry = \"UPDATE_GEOMETRY\")\n",
    "\n",
    "print(f\"{City_Name} Appended\")"
   ]
  },
  {
   "cell_type": "markdown",
   "metadata": {},
   "source": [
    "## Delete temporary layers, but keep the edited points and spatial joins just in case you need to go back and add more. Be sure the city was appended correctly with no issues before you delete. \n",
    "\n",
    "## You may have to run this twice. Sometimes the layers don't actually delete, especially if it says you've saved 0 MB."
   ]
  },
  {
   "cell_type": "code",
   "execution_count": null,
   "metadata": {},
   "outputs": [],
   "source": [
    "import os\n",
    "# Set the project and map\n",
    "aprx = arcpy.mp.ArcGISProject(\"CURRENT\")  # Uses the currently open ArcGIS Pro project\n",
    "m = aprx.activeMap  # Gets the active map\n",
    "\n",
    "# Remove all layers\n",
    "for layer in m.listLayers():\n",
    "    m.removeLayer(layer)\n",
    "    \n",
    "keep_list = [\n",
    "    f\"{City_Name}_Clipped_Points\",\n",
    "    f\"{City_Name}_Parcels_Over_500m_FromParks\",\n",
    "    f\"{City_Name}_Parcels_Within_500m_FromParks\",\n",
    "    f\"{City_Name}_ROW_Final\",\n",
    "    f\"{City_Name}_School_Medical_Final\",\n",
    "    f\"{City_Name}_Spatial_Join\"\n",
    "]\n",
    "# Function to calculate the size of a folder (geodatabase)\n",
    "def get_gdb_size(gdb_path):\n",
    "    total_size = 0\n",
    "    for dirpath, dirnames, filenames in os.walk(gdb_path):\n",
    "        for f in filenames:\n",
    "            fp = os.path.join(dirpath, f)\n",
    "            total_size += os.path.getsize(fp)\n",
    "    return total_size\n",
    "size_before = get_gdb_size(gdb_path)\n",
    "size_before_mb = size_before / (1024 * 1024)\n",
    "print(f\"Geodatabase size: {size_before_mb:.2f} MB\")\n",
    "\n",
    "# Get a list of all feature classes in the geodatabase\n",
    "feature_classes = arcpy.ListFeatureClasses()\n",
    "print(feature_classes)\n",
    "# # # Loop through feature classes and delete those not in the keep list\n",
    "for fc in feature_classes:\n",
    "    if fc not in keep_list:\n",
    "        arcpy.Delete_management(fc)\n",
    "        print(f\"Deleted {fc}\")\n",
    "    else:\n",
    "        print(f\"Kept {fc}\")\n",
    "\n",
    "# Get the size in bytes, then convert to megabytes (MB)\n",
    "size_after = get_gdb_size(gdb_path)\n",
    "size_after_mb = size_after / (1024 * 1024)\n",
    "print(f\"GDB size After Deletion: {size_after_mb:.2f} MB\\n\")\n",
    "size_savings = size_before_mb - size_after_mb\n",
    "print(f\"You saved {size_savings} MB of storage\")"
   ]
  },
  {
   "cell_type": "code",
   "execution_count": null,
   "metadata": {},
   "outputs": [],
   "source": []
  }
 ],
 "metadata": {
  "kernelspec": {
   "display_name": "ArcGISPro",
   "language": "python",
   "name": "python3"
  },
  "language_info": {
   "file_extension": ".py",
   "mimetype": "text/x-python",
   "name": "python",
   "version": "3.11.10"
  }
 },
 "nbformat": 4,
 "nbformat_minor": 4
}
